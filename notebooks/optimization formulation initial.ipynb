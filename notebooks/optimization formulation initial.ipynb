{
 "cells": [
  {
   "cell_type": "code",
   "execution_count": 1,
   "id": "ae4bbdd6",
   "metadata": {},
   "outputs": [],
   "source": [
    "import numpy as np\n",
    "import cvxpy as cp\n",
    "import pandas as pd"
   ]
  },
  {
   "cell_type": "code",
   "execution_count": 2,
   "id": "b3503fa4",
   "metadata": {},
   "outputs": [
    {
     "name": "stdout",
     "output_type": "stream",
     "text": [
      "status: optimal\n",
      "optimal value 1.0\n",
      "optimal var 1.0 1.570086213240983e-22\n"
     ]
    }
   ],
   "source": [
    "## demo optimization problem\n",
    "\n",
    "# Create two scalar optimization variables.\n",
    "x = cp.Variable()\n",
    "y = cp.Variable()\n",
    "\n",
    "# Create two constraints.\n",
    "constraints = [x + y == 1,\n",
    "               x - y >= 1]\n",
    "\n",
    "# Form objective.\n",
    "obj = cp.Minimize((x - y)**2)\n",
    "\n",
    "# Form and solve problem.\n",
    "prob = cp.Problem(obj, constraints)\n",
    "prob.solve()  # Returns the optimal value.\n",
    "print(\"status:\", prob.status)\n",
    "print(\"optimal value\", prob.value)\n",
    "print(\"optimal var\", x.value, y.value)"
   ]
  },
  {
   "cell_type": "code",
   "execution_count": 28,
   "id": "80d9735c",
   "metadata": {},
   "outputs": [],
   "source": [
    "# set up parameters\n",
    "\n",
    "A_p = np.array([[1,0,-1],[-1,1,0],[0,-1,1]]) #edge-node incidence matrix for power\n",
    "A_g = A_p #same for gas\n",
    "\n",
    "generators = pd.DataFrame()\n",
    "generators[\"name\"] = [\"coal\",\"gas\",\"pv\"]\n",
    "generators[\"node_p\"] = [0,1,2]\n",
    "generators[\"node_g\"] = [0,1,2]\n",
    "generators[\"is_gas\"] = [False,True,False]\n",
    "generators[\"min_cap_mw\"] = [0,0,0]\n",
    "generators[\"max_cap_mw\"] = [100,200,50]\n",
    "generators[\"fuel_cost_dollars_per_mwh\"] = [5,10,50]\n",
    "generators[\"efficiency_gj_in_per_mwh_out\"] = [5,5,5]\n",
    "\n",
    "lines = pd.DataFrame()\n",
    "lines[\"from_node\"] = [0,1,2]\n",
    "lines[\"to_node\"] = [1,2,0]\n",
    "lines[\"reactance_pu\"] = [0.3,0.3,0.3]\n",
    "lines[\"capacity_mw\"] = [500,500,500]\n",
    "\n",
    "load = pd.DataFrame()\n",
    "load[\"node\"] = [0,1,2]\n",
    "load[\"load_mw\"] = [0,0,40]\n",
    "\n",
    "p_hat_mw = 100 #MW\n",
    "voltage_angle_cap_radians = 2 * np.pi\n",
    "slack_node_index = 0\n",
    "nse_cost = 1000 # penalty for non served energy\n",
    "\n",
    "gas_supply = pd.DataFrame()\n",
    "gas_supply[\"node_g\"] = [0,1,2]\n",
    "gas_supply[\"supply_gj\"] = [1000,1000,1000] #exajoules\n",
    "\n",
    "gas_demand = pd.DataFrame()\n",
    "gas_demand[\"node_g\"] = [0,1,2]\n",
    "gas_demand[\"demand_gj\"] = [100,100,100]\n",
    "\n",
    "pipelines = pd.DataFrame()\n",
    "pipelines[\"from_node\"] = [0,1,2]\n",
    "pipelines[\"to_node\"] = [1,2,0]\n",
    "pipelines[\"capacity_gj\"] = [100,100,100]\n",
    "pipelines[\"cost\"] = [5,5,5]\n",
    "\n"
   ]
  },
  {
   "cell_type": "code",
   "execution_count": 39,
   "id": "d4aed4b7",
   "metadata": {},
   "outputs": [
    {
     "data": {
      "text/html": [
       "<div>\n",
       "<style scoped>\n",
       "    .dataframe tbody tr th:only-of-type {\n",
       "        vertical-align: middle;\n",
       "    }\n",
       "\n",
       "    .dataframe tbody tr th {\n",
       "        vertical-align: top;\n",
       "    }\n",
       "\n",
       "    .dataframe thead th {\n",
       "        text-align: right;\n",
       "    }\n",
       "</style>\n",
       "<table border=\"1\" class=\"dataframe\">\n",
       "  <thead>\n",
       "    <tr style=\"text-align: right;\">\n",
       "      <th></th>\n",
       "      <th>node_g</th>\n",
       "      <th>supply_gj</th>\n",
       "    </tr>\n",
       "  </thead>\n",
       "  <tbody>\n",
       "    <tr>\n",
       "      <th>0</th>\n",
       "      <td>0</td>\n",
       "      <td>1000</td>\n",
       "    </tr>\n",
       "    <tr>\n",
       "      <th>1</th>\n",
       "      <td>1</td>\n",
       "      <td>1000</td>\n",
       "    </tr>\n",
       "    <tr>\n",
       "      <th>2</th>\n",
       "      <td>2</td>\n",
       "      <td>1000</td>\n",
       "    </tr>\n",
       "  </tbody>\n",
       "</table>\n",
       "</div>"
      ],
      "text/plain": [
       "   node_g  supply_gj\n",
       "0       0       1000\n",
       "1       1       1000\n",
       "2       2       1000"
      ]
     },
     "execution_count": 39,
     "metadata": {},
     "output_type": "execute_result"
    }
   ],
   "source": [
    "gas_supply"
   ]
  },
  {
   "cell_type": "code",
   "execution_count": 37,
   "id": "ce2f91ec",
   "metadata": {},
   "outputs": [
    {
     "data": {
      "text/plain": [
       "(3, 3)"
      ]
     },
     "execution_count": 37,
     "metadata": {},
     "output_type": "execute_result"
    }
   ],
   "source": [
    "A_p.shape"
   ]
  },
  {
   "cell_type": "code",
   "execution_count": 33,
   "id": "ece87254",
   "metadata": {},
   "outputs": [
    {
     "name": "stdout",
     "output_type": "stream",
     "text": [
      "status: optimal\n",
      "optimal value 200.0000000840339\n",
      "optimal var 13.333333331801919 13.333333334006715 -26.666666665808634\n"
     ]
    }
   ],
   "source": [
    "# sets\n",
    "nodes_p = list(range(A_p.shape[0]))\n",
    "edges_p = list(range(A_p.shape[0]))\n",
    "nodes_g = list(range(A_g.shape[0]))\n",
    "edges_g = list(range(A_g.shape[0]))\n",
    "gens = list(generators.index)\n",
    "\n",
    "# decision variables\n",
    "\n",
    "# voltage angle at each node (radians)\n",
    "v_n = cp.Variable(len(nodes_p))\n",
    "\n",
    "# generation\n",
    "gen = cp.Variable(len(generators),nonneg=True)\n",
    "\n",
    "# slack generation for power\n",
    "slack_p = cp.Variable(len(nodes_p),nonneg=True)\n",
    "\n",
    "# gas supply\n",
    "supply_gas = cp.Variable(len(nodes_g),nonneg=True)\n",
    "\n",
    "# gas flow\n",
    "flow_gas = cp.Variable(len(edges_g))\n",
    "\n",
    "# gas flow positive component\n",
    "flow_gas_pos = cp.Variable(len(edges_g),nonneg=True)\n",
    "\n",
    "# gas flow negative component\n",
    "flow_gas_neg = cp.Variable(len(edges_g),nonneg=True)\n",
    "\n",
    "# slack demand for gas\n",
    "slack_g = cp.Variable(len(nodes_g),nonneg=True)\n",
    "\n",
    "# expressions\n",
    "\n",
    "# power flow on an edge\n",
    "p_e = []\n",
    "\n",
    "for e in edges_p:\n",
    "    p_e += [p_hat_mw * (1/lines.reactance_pu[e]) * sum(A_p[n,e]*v_n[n] for n in nodes_p)]\n",
    "\n",
    "# constraints\n",
    "\n",
    "constraints = []\n",
    "\n",
    "# power energy balance\n",
    "for n in nodes_p:\n",
    "    constraints += [\n",
    "        sum(gen[g] if generators.loc[g].node_p == n else 0 for g in gens)\n",
    "        - sum(A_p[n,e]*p_e[e] for e in edges_p)\n",
    "        - load.loc[n].load_mw\n",
    "        - slack_p[n]\n",
    "        == 0\n",
    "    ]\n",
    "\n",
    "# tx line limits\n",
    "for e in edges_p:\n",
    "    constraints += [\n",
    "        -1 * lines.loc[e].capacity_mw <= p_e[e]\n",
    "    ]\n",
    "    constraints += [\n",
    "        p_e[e] <= lines.loc[e].capacity_mw\n",
    "    ]\n",
    "\n",
    "# voltage angle differential limits\n",
    "for e in edges_p:\n",
    "    constraints += [\n",
    "        -1 * voltage_angle_cap_radians <= sum(A_p[n,e]*v_n[n] for n in nodes_p)\n",
    "    ]\n",
    "    constraints += [\n",
    "        sum(A_p[n,e]*v_n[n] for n in nodes_p) <= voltage_angle_cap_radians\n",
    "    ]\n",
    "\n",
    "# slack bus\n",
    "constraints += [v_n[slack_node_index] == 0]\n",
    "\n",
    "# generator limits\n",
    "for g in gens:\n",
    "    constraints += [\n",
    "        generators.loc[g].min_cap_mw <= gen[g]\n",
    "    ]\n",
    "    constraints += [\n",
    "        gen[g] <= generators.loc[g].max_cap_mw\n",
    "    ]\n",
    "    \n",
    "# gas energy balance\n",
    "for n in nodes_g:\n",
    "    constraints += [\n",
    "        supply_gas[n]\n",
    "        - sum(A_g[n,e]*flow_gas[e] for e in edges_g)\n",
    "        - gas_demand.loc[n].demand_gj\n",
    "        - sum(\n",
    "            gen[g]*generators.loc[g].efficiency_gj_in_per_mwh_out\n",
    "            if generators.loc[g].is_gas\n",
    "            else 0\n",
    "            for g in gens\n",
    "        )\n",
    "        - slack_g[n]\n",
    "        == 0\n",
    "    ]\n",
    "    \n",
    "# gas supply limits\n",
    "for n in nodes_g:\n",
    "    constraints += [\n",
    "        0 <= supply_gas[n]\n",
    "    ]\n",
    "    constraints += [\n",
    "        supply_gas[n] <= gas_supply.loc[n].supply_gj\n",
    "    ]\n",
    "    \n",
    "# gas flow constraints\n",
    "for e in edges_g:\n",
    "    constraints += [\n",
    "        -1 * pipelines.loc[e].capacity_gj <= flow_gas[e]\n",
    "    ]\n",
    "    constraints += [\n",
    "        flow_gas[e] <= pipelines.loc[e].capacity_gj\n",
    "    ]\n",
    "    \n",
    "# set up absolute value variables\n",
    "for e in edges_g:\n",
    "    constraints += [\n",
    "        flow_gas_pos[e] >= flow_gas[e]\n",
    "    ]\n",
    "    constraints += [\n",
    "        flow_gas_neg[e] >= -1 * flow_gas[e]\n",
    "    ]\n",
    "\n",
    "# objective\n",
    "obj = cp.Minimize(\n",
    "    sum(gen[g]*generators.loc[g].fuel_cost_dollars_per_mwh for g in gens)\n",
    "    + sum(slack_p[n]*nse_cost for n in nodes_p)\n",
    "    + sum((flow_gas_pos[e] + flow_gas_neg[e]) * pipelines.loc[e].cost for e in edges_g) \n",
    "    + sum(slack_g[n]*nse_cost for n in nodes_g)\n",
    ")\n",
    "\n",
    "\n",
    "# Form and solve problem.\n",
    "prob = cp.Problem(obj, constraints)\n",
    "prob.solve()  # Returns the optimal value.\n",
    "print(\"status:\", prob.status)\n",
    "print(\"optimal value\", prob.value)\n",
    "print(\"optimal var\", p_e[0].value, p_e[1].value, p_e[2].value)"
   ]
  },
  {
   "cell_type": "code",
   "execution_count": 49,
   "id": "6100c928",
   "metadata": {},
   "outputs": [
    {
     "data": {
      "text/plain": [
       "[13.333333331801919, 13.333333334006715, -26.666666665808634]"
      ]
     },
     "execution_count": 49,
     "metadata": {},
     "output_type": "execute_result"
    }
   ],
   "source": [
    "[x.value for x in p_e]"
   ]
  }
 ],
 "metadata": {
  "kernelspec": {
   "display_name": "Python 3 (ipykernel)",
   "language": "python",
   "name": "python3"
  },
  "language_info": {
   "codemirror_mode": {
    "name": "ipython",
    "version": 3
   },
   "file_extension": ".py",
   "mimetype": "text/x-python",
   "name": "python",
   "nbconvert_exporter": "python",
   "pygments_lexer": "ipython3",
   "version": "3.10.8"
  }
 },
 "nbformat": 4,
 "nbformat_minor": 5
}
